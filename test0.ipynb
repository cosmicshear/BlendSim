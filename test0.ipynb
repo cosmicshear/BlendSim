{
  "nbformat": 4,
  "nbformat_minor": 0,
  "metadata": {
    "colab": {
      "name": "test0.ipynb",
      "version": "0.3.2",
      "provenance": [],
      "include_colab_link": true
    },
    "kernelspec": {
      "name": "python3",
      "display_name": "Python 3"
    }
  },
  "cells": [
    {
      "cell_type": "markdown",
      "metadata": {
        "id": "view-in-github",
        "colab_type": "text"
      },
      "source": [
        "<a href=\"https://colab.research.google.com/github/cosmicshear/BlendSim/blob/master/test0.ipynb\" target=\"_parent\"><img src=\"https://colab.research.google.com/assets/colab-badge.svg\" alt=\"Open In Colab\"/></a>"
      ]
    },
    {
      "cell_type": "code",
      "metadata": {
        "id": "MEWBkGL_J1j-",
        "colab_type": "code",
        "colab": {}
      },
      "source": [
        "import numpy as np"
      ],
      "execution_count": 0,
      "outputs": []
    },
    {
      "cell_type": "code",
      "metadata": {
        "id": "TcRg7JxLKlzZ",
        "colab_type": "code",
        "colab": {
          "base_uri": "https://localhost:8080/",
          "height": 360
        },
        "outputId": "ea8de48e-7f5e-4de8-d6f4-b79c043b2cd1"
      },
      "source": [
        "!pip install treecorr"
      ],
      "execution_count": 3,
      "outputs": [
        {
          "output_type": "stream",
          "text": [
            "Collecting treecorr\n",
            "\u001b[?25l  Downloading https://files.pythonhosted.org/packages/58/41/3ff4313457a38ff69b9f155b44a9fa76e89c724d550acb2d14fbbde363f7/TreeCorr-4.0.1.tar.gz (1.3MB)\n",
            "\u001b[K     |████████████████████████████████| 1.3MB 2.8MB/s \n",
            "\u001b[?25hRequirement already satisfied: numpy in /usr/local/lib/python3.6/dist-packages (from treecorr) (1.16.3)\n",
            "Requirement already satisfied: cffi in /usr/local/lib/python3.6/dist-packages (from treecorr) (1.12.3)\n",
            "Requirement already satisfied: pyyaml in /usr/local/lib/python3.6/dist-packages (from treecorr) (3.13)\n",
            "Collecting LSSTDESC.Coord>=1.1 (from treecorr)\n",
            "\u001b[?25l  Downloading https://files.pythonhosted.org/packages/e6/ac/3cbeee64325a7a402985410361244da0431cf607bc271f4fa809eba05ff7/LSSTDESC.Coord-1.1.1.tar.gz (45kB)\n",
            "\u001b[K     |████████████████████████████████| 51kB 20.6MB/s \n",
            "\u001b[?25hRequirement already satisfied: pycparser in /usr/local/lib/python3.6/dist-packages (from cffi->treecorr) (2.19)\n",
            "Requirement already satisfied: future in /usr/local/lib/python3.6/dist-packages (from LSSTDESC.Coord>=1.1->treecorr) (0.16.0)\n",
            "Building wheels for collected packages: treecorr, LSSTDESC.Coord\n",
            "  Building wheel for treecorr (setup.py) ... \u001b[?25l\u001b[?25hdone\n",
            "  Stored in directory: /root/.cache/pip/wheels/8b/ee/58/461a991a349f30923a6407a671000c52c55ec13189d255ea77\n",
            "  Building wheel for LSSTDESC.Coord (setup.py) ... \u001b[?25l\u001b[?25hdone\n",
            "  Stored in directory: /root/.cache/pip/wheels/98/36/4d/32b053f0f6d14e22d5d0b8282d6cd9693390229802568b1da1\n",
            "Successfully built treecorr LSSTDESC.Coord\n",
            "Installing collected packages: LSSTDESC.Coord, treecorr\n",
            "Successfully installed LSSTDESC.Coord-1.1.1 treecorr-4.0.1\n"
          ],
          "name": "stdout"
        }
      ]
    },
    {
      "cell_type": "code",
      "metadata": {
        "id": "O-lVGwsCJ4NM",
        "colab_type": "code",
        "colab": {}
      },
      "source": [
        "import treecorr"
      ],
      "execution_count": 0,
      "outputs": []
    },
    {
      "cell_type": "code",
      "metadata": {
        "id": "GtZDoFYNKYzZ",
        "colab_type": "code",
        "colab": {
          "base_uri": "https://localhost:8080/",
          "height": 34
        },
        "outputId": "27991f96-91c6-44ed-bfa4-ddb3d0602718"
      },
      "source": [
        "print(np.pi)"
      ],
      "execution_count": 5,
      "outputs": [
        {
          "output_type": "stream",
          "text": [
            "3.141592653589793\n"
          ],
          "name": "stdout"
        }
      ]
    },
    {
      "cell_type": "code",
      "metadata": {
        "id": "9AEPR3lQMPav",
        "colab_type": "code",
        "colab": {}
      },
      "source": [
        ""
      ],
      "execution_count": 0,
      "outputs": []
    }
  ]
}